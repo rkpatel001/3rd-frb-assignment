{
 "cells": [
  {
   "cell_type": "code",
   "execution_count": 1,
   "id": "5b02f352-74f9-4f66-b97a-979ca0689bef",
   "metadata": {},
   "outputs": [],
   "source": [
    "# Question 1"
   ]
  },
  {
   "cell_type": "code",
   "execution_count": 6,
   "id": "fdb69dce-7f1d-49d2-a9a1-cebc8879eb5b",
   "metadata": {},
   "outputs": [],
   "source": [
    "# def keyword is use to creat function in python\n",
    "\n",
    "def odd():\n",
    "    l=[]\n",
    "    for i in range(1,25):\n",
    "        if i % 2 != 0:\n",
    "            l.append(i)\n",
    "    return l\n",
    "        "
   ]
  },
  {
   "cell_type": "code",
   "execution_count": 7,
   "id": "1ca5bfcf-2dd0-484e-8b9c-5ce100d9cb25",
   "metadata": {},
   "outputs": [
    {
     "data": {
      "text/plain": [
       "[1, 3, 5, 7, 9, 11, 13, 15, 17, 19, 21, 23]"
      ]
     },
     "execution_count": 7,
     "metadata": {},
     "output_type": "execute_result"
    }
   ],
   "source": [
    "odd()"
   ]
  },
  {
   "cell_type": "code",
   "execution_count": null,
   "id": "8a5403e9-bf1e-4d54-9c30-f16789b0067a",
   "metadata": {},
   "outputs": [],
   "source": []
  },
  {
   "cell_type": "code",
   "execution_count": 9,
   "id": "ec0b8fd5-1022-449c-83e8-196bd12742b5",
   "metadata": {},
   "outputs": [],
   "source": [
    "# Question 2"
   ]
  },
  {
   "cell_type": "code",
   "execution_count": 10,
   "id": "95905f4e-9fd7-4102-bfc7-9deece10b81f",
   "metadata": {},
   "outputs": [],
   "source": [
    "'''*args and **kwarge is use in function as a argument with the use of it we can take argument dynamically\n",
    "    *args stand for multipal arguement\n",
    "    **kwarge is stand for key value pairs argument same as dictory'''\n",
    "\n",
    "# example of *args\n",
    "\n",
    "def number(*args):\n",
    "    return args\n",
    "    "
   ]
  },
  {
   "cell_type": "code",
   "execution_count": 12,
   "id": "7d3b95e0-46af-4e88-8078-2391973077d6",
   "metadata": {},
   "outputs": [
    {
     "data": {
      "text/plain": [
       "(1, 21, 'ronak', [1, 2, 3, 6, 9, 8, 7])"
      ]
     },
     "execution_count": 12,
     "metadata": {},
     "output_type": "execute_result"
    }
   ],
   "source": [
    "number(1,21,\"ronak\" ,[1,2,3,6,9,8,7])"
   ]
  },
  {
   "cell_type": "code",
   "execution_count": 13,
   "id": "3e98ab38-ed93-42e3-933b-810b9e045185",
   "metadata": {},
   "outputs": [],
   "source": [
    "# example of **kwarge\n",
    "\n",
    "def name(**kwargs):\n",
    "    return kwargs"
   ]
  },
  {
   "cell_type": "code",
   "execution_count": 16,
   "id": "ee84bcae-e5d2-4d83-bdbe-055a6e10547a",
   "metadata": {},
   "outputs": [
    {
     "data": {
      "text/plain": [
       "{'key1': 'ronak', 'key2': [1, 2, 3, 4, 5, 6]}"
      ]
     },
     "execution_count": 16,
     "metadata": {},
     "output_type": "execute_result"
    }
   ],
   "source": [
    "name(key1=\"ronak\",key2=[1,2,3,4,5,6])"
   ]
  },
  {
   "cell_type": "code",
   "execution_count": null,
   "id": "c37c8773-333e-406d-a3f5-72ee86af61c2",
   "metadata": {},
   "outputs": [],
   "source": []
  },
  {
   "cell_type": "code",
   "execution_count": null,
   "id": "a5a572f1-cfa3-49f2-b51a-f0f13dc10495",
   "metadata": {},
   "outputs": [],
   "source": []
  },
  {
   "cell_type": "code",
   "execution_count": 17,
   "id": "79308e3d-7f69-4ee9-a87d-a8b5d99edbb5",
   "metadata": {},
   "outputs": [],
   "source": [
    "#Question 3"
   ]
  },
  {
   "cell_type": "code",
   "execution_count": 18,
   "id": "f17d7156-9b52-4d31-aaf8-0c1283b96f1e",
   "metadata": {},
   "outputs": [
    {
     "data": {
      "text/plain": [
       "'__iter__(): The iter() method is called for the initialization of an iterator. This returns an iterator object'"
      ]
     },
     "execution_count": 18,
     "metadata": {},
     "output_type": "execute_result"
    }
   ],
   "source": [
    "'''Iterator in Python is an object that is used to iterate over iterable objects like lists, tuples, dicts, and sets.'''\n",
    "\n",
    "'''__iter__(): The iter() method is called for the initialization of an iterator. This returns an iterator object'''"
   ]
  },
  {
   "cell_type": "code",
   "execution_count": 19,
   "id": "8ce51597-3678-411c-aa09-48acdffab0ee",
   "metadata": {},
   "outputs": [],
   "source": [
    "# Question 4\n"
   ]
  },
  {
   "cell_type": "code",
   "execution_count": null,
   "id": "40023743-358c-450f-9c52-b8ba69da6db7",
   "metadata": {},
   "outputs": [],
   "source": []
  },
  {
   "cell_type": "code",
   "execution_count": 20,
   "id": "22e34388-c050-480b-8a32-6020de7dc0bc",
   "metadata": {},
   "outputs": [],
   "source": [
    "# Question 5 "
   ]
  },
  {
   "cell_type": "code",
   "execution_count": null,
   "id": "c0c6a536-5ab9-483a-a967-fb713bc48b83",
   "metadata": {},
   "outputs": [],
   "source": []
  },
  {
   "cell_type": "code",
   "execution_count": 21,
   "id": "d94dc779-602c-42cb-ad8c-0f4fc12501e6",
   "metadata": {},
   "outputs": [],
   "source": [
    "# Question 6 "
   ]
  },
  {
   "cell_type": "code",
   "execution_count": 26,
   "id": "42a8682b-e8ac-48c4-8bf5-404a3c612cad",
   "metadata": {},
   "outputs": [
    {
     "name": "stdin",
     "output_type": "stream",
     "text": [
      "enter num :  5\n"
     ]
    }
   ],
   "source": [
    "num = int(input(\"enter num : \"))"
   ]
  },
  {
   "cell_type": "code",
   "execution_count": 46,
   "id": "e9f9ae47-108a-416c-8694-1da90f7a445f",
   "metadata": {},
   "outputs": [
    {
     "name": "stdout",
     "output_type": "stream",
     "text": [
      "0\n",
      "1\n",
      "1\n",
      "2\n",
      "3\n",
      "5\n"
     ]
    }
   ],
   "source": [
    "counter = 0\n",
    "\n",
    "a = 0\n",
    "b = 1\n",
    "\n",
    "while counter <= num:\n",
    "    print(a)\n",
    "    c=a+b\n",
    "    a=b\n",
    "    b=c\n",
    "    counter=counter+1"
   ]
  },
  {
   "cell_type": "code",
   "execution_count": null,
   "id": "749e3576-8130-44bc-b6d5-a88c0e68e9da",
   "metadata": {},
   "outputs": [],
   "source": [
    "# Question 7"
   ]
  },
  {
   "cell_type": "code",
   "execution_count": 45,
   "id": "714f3fc6-9090-43ec-aafe-66ca49afeaa7",
   "metadata": {},
   "outputs": [
    {
     "data": {
      "text/plain": [
       "['p', 'w', 's', 'k', 'i', 'l', 'l']"
      ]
     },
     "execution_count": 45,
     "metadata": {},
     "output_type": "execute_result"
    }
   ],
   "source": [
    "string=\"pwskill\"\n",
    "\n",
    "l=[]\n",
    "[l.append(i) for i in string]\n",
    "\n",
    "l\n",
    "    \n"
   ]
  },
  {
   "cell_type": "code",
   "execution_count": 47,
   "id": "5ffd1400-62b2-489c-a19e-6c578b2ffb69",
   "metadata": {},
   "outputs": [],
   "source": [
    "# Question 8"
   ]
  },
  {
   "cell_type": "code",
   "execution_count": null,
   "id": "7b1ad59e-b8fc-46cd-947d-935c7cbd9a08",
   "metadata": {},
   "outputs": [],
   "source": [
    "name=\"kanak\"\n",
    "\n",
    "if (name==name[::-1])\n",
    "    print(\"this is palindrome\")\n",
    "else :\n",
    "    print(\"its not\")\n",
    "    "
   ]
  },
  {
   "cell_type": "code",
   "execution_count": null,
   "id": "46e5edd3-71d6-4c05-9fff-83fbf530bc7f",
   "metadata": {},
   "outputs": [],
   "source": [
    "#Question 9"
   ]
  },
  {
   "cell_type": "code",
   "execution_count": null,
   "id": "20b1a566-69e4-4fae-b1de-c8d68a75b844",
   "metadata": {},
   "outputs": [],
   "source": [
    "\n",
    "l=[i for i in range(0,101) if i % 2 == 1]\n",
    "\n",
    "print(l)"
   ]
  },
  {
   "cell_type": "code",
   "execution_count": null,
   "id": "e7656537-29ea-4095-9487-cb3d761a822a",
   "metadata": {},
   "outputs": [],
   "source": [
    "l"
   ]
  },
  {
   "cell_type": "code",
   "execution_count": null,
   "id": "43fed9bb-ca62-4174-b303-7a480c5dcfb7",
   "metadata": {},
   "outputs": [],
   "source": []
  },
  {
   "cell_type": "code",
   "execution_count": null,
   "id": "c836bd0e-15e5-41d0-b1c3-aa7e90bbc861",
   "metadata": {},
   "outputs": [],
   "source": []
  }
 ],
 "metadata": {
  "kernelspec": {
   "display_name": "Python 3 (ipykernel)",
   "language": "python",
   "name": "python3"
  },
  "language_info": {
   "codemirror_mode": {
    "name": "ipython",
    "version": 3
   },
   "file_extension": ".py",
   "mimetype": "text/x-python",
   "name": "python",
   "nbconvert_exporter": "python",
   "pygments_lexer": "ipython3",
   "version": "3.10.8"
  }
 },
 "nbformat": 4,
 "nbformat_minor": 5
}
